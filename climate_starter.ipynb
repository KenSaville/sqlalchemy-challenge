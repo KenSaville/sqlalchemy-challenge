{
 "cells": [
  {
   "cell_type": "code",
   "execution_count": null,
   "metadata": {},
   "outputs": [],
   "source": [
    "%matplotlib inline\n",
    "from matplotlib import style\n",
    "style.use('fivethirtyeight')\n",
    "import matplotlib.pyplot as plt"
   ]
  },
  {
   "cell_type": "code",
   "execution_count": null,
   "metadata": {},
   "outputs": [],
   "source": [
    "import numpy as np\n",
    "import pandas as pd"
   ]
  },
  {
   "cell_type": "code",
   "execution_count": null,
   "metadata": {},
   "outputs": [],
   "source": [
    "import datetime as dt"
   ]
  },
  {
   "cell_type": "markdown",
   "metadata": {},
   "source": [
    "## Reflect Tables into SQLAlchemy ORM"
   ]
  },
  {
   "cell_type": "code",
   "execution_count": null,
   "metadata": {},
   "outputs": [],
   "source": [
    "# Python SQL toolkit and Object Relational Mapper\n",
    "import sqlalchemy\n",
    "from sqlalchemy.ext.automap import automap_base\n",
    "from sqlalchemy.orm import Session\n",
    "from sqlalchemy import create_engine, func"
   ]
  },
  {
   "cell_type": "code",
   "execution_count": null,
   "metadata": {},
   "outputs": [],
   "source": [
    "engine = create_engine(\"sqlite:///Resources/hawaii.sqlite\")\n",
    "\n",
    "engine\n"
   ]
  },
  {
   "cell_type": "code",
   "execution_count": null,
   "metadata": {},
   "outputs": [],
   "source": [
    "# reflect an existing database into a new model\n",
    "# reflect the tables\n",
    "Base = automap_base()\n",
    "# reflect the tables\n",
    "Base.prepare(engine, reflect=True)"
   ]
  },
  {
   "cell_type": "code",
   "execution_count": null,
   "metadata": {},
   "outputs": [],
   "source": [
    "# We can view all of the classes that automap found\n",
    "Base.classes.keys()\n"
   ]
  },
  {
   "cell_type": "code",
   "execution_count": null,
   "metadata": {},
   "outputs": [],
   "source": [
    "# Save references to each table\n",
    "Measurement = Base.classes.measurement\n",
    "Station = Base.classes.station\n"
   ]
  },
  {
   "cell_type": "code",
   "execution_count": null,
   "metadata": {},
   "outputs": [],
   "source": [
    "# Create our session (link) from Python to the DB\n",
    "session = Session(engine)"
   ]
  },
  {
   "cell_type": "markdown",
   "metadata": {},
   "source": [
    "## Inspect the hawaii data base"
   ]
  },
  {
   "cell_type": "code",
   "execution_count": null,
   "metadata": {},
   "outputs": [],
   "source": [
    "from sqlalchemy import inspect\n",
    "inspector = inspect(engine)\n",
    "\n",
    "columns = inspector.get_columns('measurement')\n",
    "for column in columns:\n",
    "    print(column[\"name\"], column[\"type\"])"
   ]
  },
  {
   "cell_type": "code",
   "execution_count": null,
   "metadata": {},
   "outputs": [],
   "source": [
    "from sqlalchemy import inspect\n",
    "inspector = inspect(engine)\n",
    "\n",
    "columns = inspector.get_columns('station')\n",
    "for column in columns:\n",
    "    print(column[\"name\"], column[\"type\"])"
   ]
  },
  {
   "cell_type": "code",
   "execution_count": null,
   "metadata": {},
   "outputs": [],
   "source": [
    "# Calculate the date 1 year ago from the last data point in the database\n",
    "latest = session.query(Measurement.date).order_by(Measurement.date.desc()).first()\n",
    "latest"
   ]
  },
  {
   "cell_type": "code",
   "execution_count": null,
   "metadata": {},
   "outputs": [],
   "source": [
    "# Perform a query to retrieve the data and precipitation scores\n",
    "\n",
    "precip_last_year = session.query(Measurement.date,Measurement.prcp).\\\n",
    "                    filter(func.strftime(\"%Y-%m-%d\", Measurement.date) >= '2016-08-23').\\\n",
    "                    order_by(Measurement.date).all()\n",
    "precip_last_year\n",
    "\n",
    "precip_df = pd.DataFrame(precip_last_year, columns=['Date', 'Precip'])\n",
    "\n",
    "precip_df = precip_df.dropna()\n",
    "#precip_df.head()\n",
    "#precip_df.set_index(\"Date\", inplace = True)\n",
    "#precip_df.head(20)\n",
    "\n",
    "#precip_df['Date'] = pd.to_datetime(precip_df['Date'])\n",
    "precip_df = precip_df.set_index('Date')\n",
    "\n",
    "#precip_df['Precip'].count()\n",
    "precip_df.head()\n"
   ]
  },
  {
   "cell_type": "code",
   "execution_count": null,
   "metadata": {},
   "outputs": [],
   "source": [
    "df = precip_df\n",
    "labels = df.index\n",
    "\n",
    "# Set x axis and tick locations\n",
    "x_axis = np.arange(len(labels))\n",
    "tick_locations = [value+0.2 for value in x_axis]\n",
    "\n",
    "#set fig size, x-axis, y\n",
    "plt.figure(figsize=(20,8))\n",
    "width = 3\n",
    "\n",
    "#plot  data\n",
    "plt.bar(x_axis - width, df['Precip'],width = width, color='g', alpha=0.5, align=\"edge\", label = 'precip(in)')\n",
    "#plt.xticks(tick_locations, df.index, rotation=\"vertical\", fontsize=16)\n",
    "major_ticks = np.arange(0,2021,100)\n",
    "plt.xticks(major_ticks, df.index, rotation=\"vertical\", fontsize = 10)\n",
    "\n",
    "# Set x and y limits\n",
    "plt.xlim(-0.25, len(x_axis))\n",
    "plt.ylim(0, max(df[\"Precip\"]))\n",
    "\n",
    "# Set Title and labels\n",
    "plt.title(\"Hawaii Precipitation from 8/16-8/17 \", fontdict = {'fontsize' : 25})\n",
    "plt.xlabel(\"Date\", fontdict = {'fontsize' : 5})\n",
    "plt.ylabel(\"precip\",  fontdict = {'fontsize' : 18})\n",
    "plt.savefig(\"Images/precipitation.png\")\n",
    "plt.show()\n",
    "\n",
    "\n"
   ]
  },
  {
   "cell_type": "code",
   "execution_count": null,
   "metadata": {},
   "outputs": [],
   "source": [
    "# Use Pandas to calcualte the summary statistics for the precipitation data\n",
    "df.describe()"
   ]
  },
  {
   "cell_type": "code",
   "execution_count": null,
   "metadata": {},
   "outputs": [],
   "source": [
    "# Design a query to show how many stations are available in this dataset?\n",
    "\n",
    "stations = session.query(Station.name).count()\n",
    "\n",
    "print(f\"the are {stations} stations\")\n",
    "\n"
   ]
  },
  {
   "cell_type": "code",
   "execution_count": null,
   "metadata": {},
   "outputs": [],
   "source": [
    "# What are the most active stations? (i.e. what stations have the most rows)?\n",
    "# List the stations and the counts in descending order.\n",
    "# List the stations and the counts in descending order.\n",
    "active_list = session.query(Measurement.station, func.count(Measurement.station)).\\\n",
    "            group_by(Measurement.station).\\\n",
    "            order_by(func.count(Measurement.station).desc()).all()\n",
    "\n",
    "active_list\n",
    "\n",
    "most_active = active_list[0][0]\n",
    "most_active\n",
    "\n"
   ]
  },
  {
   "cell_type": "code",
   "execution_count": null,
   "metadata": {},
   "outputs": [],
   "source": [
    "# Using the station id from the previous query, calculate the lowest temperature recorded, # highest temperature recorded, \n",
    "#and average temperature of the most active station?\n",
    "\n",
    "low = session.query(func.min(Measurement.tobs).filter(Measurement.station == most_active)).all()[0][0]\n",
    "avg = round(session.query(func.avg(Measurement.tobs).filter(Measurement.station == most_active)).all()[0][0],2)\n",
    "hi = session.query(func.max(Measurement.tobs).filter(Measurement.station == most_active)).all()[0][0]\n",
    "\n",
    "print (f\"low temp = {low}\")\n",
    "print (f\"avg temp = {avg}\")\n",
    "print (f\"high temp = {hi}\")\n",
    "\n",
    "\n",
    "\n",
    "\n"
   ]
  },
  {
   "cell_type": "code",
   "execution_count": null,
   "metadata": {},
   "outputs": [],
   "source": [
    "# Choose the station with the highest number of temperature observations.\n",
    "# Query the last 12 months of temperature observation data for this station and plot the results as a histogram\n",
    "\n",
    "# Calculate the date 1 year ago from the last data point in the database\n",
    "latest = session.query(Measurement.date).order_by(Measurement.date.desc()).first()\n",
    "print(latest)\n",
    "\n",
    "twelve_months_ago = dt.datetime.strptime(latest[0], '%Y-%m-%d') - dt.timedelta(days=365)\n",
    "twelve_months_ago\n",
    "\n",
    "last_twelve_temps = session.query(Measurement.station, Measurement.tobs).\\\n",
    "                filter(Measurement.station == most_active).\\\n",
    "                filter(Measurement.date >= twelve_months_ago).all()\n",
    "\n",
    "\n",
    "#make pd_df for plotting\n",
    "temps_df = pd.DataFrame(last_twelve_temps)\n",
    "\n",
    "temps_df.head(20)\n",
    "\n",
    "\n",
    "\n"
   ]
  },
  {
   "cell_type": "code",
   "execution_count": null,
   "metadata": {},
   "outputs": [],
   "source": [
    "station_name = session.query(Station.name).filter(Station.station == \"USC00519281\").all()\n",
    "station_name\n",
    "\n",
    "#last_twelve_temps = session.query(Measurement.station, Measurement.tobs).\\\n",
    "#                filter(Measurement.station == most_active).\\\n",
    "#                filter(Measurement.date >= twelve_months_ago).all()"
   ]
  },
  {
   "cell_type": "code",
   "execution_count": null,
   "metadata": {},
   "outputs": [],
   "source": [
    "active_station = session.query(Station.name).filter(Station.station == most_active).all()[0][0]\n",
    "active_station\n"
   ]
  },
  {
   "cell_type": "code",
   "execution_count": null,
   "metadata": {},
   "outputs": [],
   "source": [
    "# Plot the results as a histogram with bins=12.\n",
    "temps_df.plot.hist(by='station', bins=12, figsize=(12,8), color=\"green\")\n",
    "plt.title(\"Frequency of temperatures measurements for Station \" + active_station, fontsize=16)\n",
    "plt.xlabel(\"Temperature\", fontsize=16)\n",
    "plt.savefig(\"Images/station_temps.png\")\n",
    "plt.show()"
   ]
  },
  {
   "cell_type": "code",
   "execution_count": null,
   "metadata": {},
   "outputs": [],
   "source": []
  }
 ],
 "metadata": {
  "kernel_info": {
   "name": "python3"
  },
  "kernelspec": {
   "display_name": "Python 3",
   "language": "python",
   "name": "python3"
  },
  "language_info": {
   "codemirror_mode": {
    "name": "ipython",
    "version": 3
   },
   "file_extension": ".py",
   "mimetype": "text/x-python",
   "name": "python",
   "nbconvert_exporter": "python",
   "pygments_lexer": "ipython3",
   "version": "3.6.10"
  },
  "nteract": {
   "version": "0.12.3"
  },
  "varInspector": {
   "cols": {
    "lenName": 16,
    "lenType": 16,
    "lenVar": 40
   },
   "kernels_config": {
    "python": {
     "delete_cmd_postfix": "",
     "delete_cmd_prefix": "del ",
     "library": "var_list.py",
     "varRefreshCmd": "print(var_dic_list())"
    },
    "r": {
     "delete_cmd_postfix": ") ",
     "delete_cmd_prefix": "rm(",
     "library": "var_list.r",
     "varRefreshCmd": "cat(var_dic_list()) "
    }
   },
   "types_to_exclude": [
    "module",
    "function",
    "builtin_function_or_method",
    "instance",
    "_Feature"
   ],
   "window_display": false
  }
 },
 "nbformat": 4,
 "nbformat_minor": 4
}
